{
 "cells": [
  {
   "cell_type": "code",
   "execution_count": 1,
   "metadata": {},
   "outputs": [
    {
     "name": "stdout",
     "output_type": "stream",
     "text": [
      "Extracting EDF parameters from /home/santiago/Desktop/BCI_UNL_AllisonPeterson_course-main/final_course_project/testing_silly_things/SN001.edf...\n",
      "EDF file detected\n",
      "Setting channel info structure...\n",
      "Creating raw.info structure...\n",
      "Reading 0 ... 6566399  =      0.000 ... 25649.996 secs...\n"
     ]
    }
   ],
   "source": [
    "import mne\n",
    "import pandas as pd\n",
    "\n",
    "# Cargar los datos de EEG usando MNE\n",
    "raw = mne.io.read_raw_edf('SN001.edf', preload=True)\n",
    "sf = raw.info['sfreq']\n",
    "data = raw.get_data() * 1e6  # Convertir a microvoltios (uV)\n",
    "\n"
   ]
  },
  {
   "cell_type": "code",
   "execution_count": 2,
   "metadata": {},
   "outputs": [],
   "source": [
    "def read_scoring_file(file_path):\n",
    "    df = pd.read_csv(file_path, sep=',')\n",
    "    df['Annotation'] = df['Annotation'].str.rstrip(',')\n",
    "    return df\n",
    "\n",
    "def correct_stage(stage):\n",
    "    # Mapeo de cada etapa de sueño a un valor numérico\n",
    "    stages_map = {'W': 0, 'N1': 1, 'N2': 2, 'N3': 3, 'R': 4}\n",
    "    return stages_map.get(stage, 'problem')\n",
    "\n",
    "def get_scoring(df):\n",
    "    # Extraer las etapas de sueño de la columna 'Annotation'\n",
    "    # Filtra los valores que comienzan con \"Sleep stage\"\n",
    "    df_filtered = df[df['Annotation'].str.contains(\"Sleep stage\", na=False)]\n",
    "    # Obtener la última palabra (etapa de sueño) de cada anotación\n",
    "    stages = df_filtered['Annotation'].apply(lambda x: x.split()[-1])\n",
    "    # Convertir las etapas de sueño a formato numérico\n",
    "    return [correct_stage(stage) for stage in stages]\n",
    "\n"
   ]
  },
  {
   "cell_type": "code",
   "execution_count": 3,
   "metadata": {},
   "outputs": [
    {
     "name": "stdout",
     "output_type": "stream",
     "text": [
      "Setting up band-pass filter from 11 - 16 Hz\n",
      "\n",
      "FIR filter parameters\n",
      "---------------------\n",
      "Designing a one-pass, zero-phase, non-causal bandpass filter:\n",
      "- Windowed time-domain design (firwin) method\n",
      "- Hamming window with 0.0194 passband ripple and 53 dB stopband attenuation\n",
      "- Lower passband edge: 11.00\n",
      "- Lower transition bandwidth: 2.75 Hz (-6 dB cutoff frequency: 9.62 Hz)\n",
      "- Upper passband edge: 16.00 Hz\n",
      "- Upper transition bandwidth: 4.00 Hz (-6 dB cutoff frequency: 18.00 Hz)\n",
      "- Filter length: 309 samples (1.207 s)\n",
      "\n"
     ]
    },
    {
     "name": "stderr",
     "output_type": "stream",
     "text": [
      "[Parallel(n_jobs=1)]: Using backend SequentialBackend with 1 concurrent workers.\n",
      "[Parallel(n_jobs=1)]: Done   1 out of   1 | elapsed:    0.3s remaining:    0.0s\n",
      "[Parallel(n_jobs=1)]: Done   1 out of   1 | elapsed:    0.3s finished\n",
      "[Parallel(n_jobs=1)]: Using backend SequentialBackend with 1 concurrent workers.\n",
      "[Parallel(n_jobs=1)]: Done   1 out of   1 | elapsed:    0.3s remaining:    0.0s\n",
      "[Parallel(n_jobs=1)]: Done   1 out of   1 | elapsed:    0.3s finished\n",
      "[Parallel(n_jobs=1)]: Using backend SequentialBackend with 1 concurrent workers.\n",
      "[Parallel(n_jobs=1)]: Done   1 out of   1 | elapsed:    0.3s remaining:    0.0s\n",
      "[Parallel(n_jobs=1)]: Done   1 out of   1 | elapsed:    0.3s finished\n"
     ]
    },
    {
     "name": "stdout",
     "output_type": "stream",
     "text": [
      "             Start          Peak           End  Duration  Amplitude       RMS  \\\n",
      "0        49.820312     50.824219     51.097656  1.277344  21.138359  4.440620   \n",
      "1        89.781250     90.488281     90.890625  1.109375  27.561093  6.285857   \n",
      "2       119.562500    119.761719    120.152344  0.589844  21.931652  5.062351   \n",
      "3       180.156250    180.238281    181.695312  1.539062  17.616376  4.017317   \n",
      "4       184.062500    184.976562    185.140625  1.078125  19.778566  4.614169   \n",
      "...            ...           ...           ...       ...        ...       ...   \n",
      "2863  25613.109375  25614.214844  25614.621094  1.511719  24.510920  5.230956   \n",
      "2864  25624.761719  25625.050781  25626.085938  1.324219  22.966964  4.003037   \n",
      "2865  25636.613281  25636.851562  25637.476562  0.863281  22.491198  4.267865   \n",
      "2866  25638.921875  25639.148438  25640.273438  1.351562  58.230185  7.733033   \n",
      "2867  25647.222656  25647.847656  25648.015625  0.792969  18.871970  4.623695   \n",
      "\n",
      "      AbsPower  RelPower  Frequency  Oscillations  Symmetry  Channel  \\\n",
      "0     1.414722  0.563954  13.854922          15.0  0.783537  CHAN000   \n",
      "1     1.648734  0.698311  13.094481          15.0  0.635088  CHAN000   \n",
      "2     1.513077  0.460709  13.757110           7.0  0.335526  CHAN000   \n",
      "3     1.327630  0.521820  12.876667          20.0  0.053165  CHAN000   \n",
      "4     1.257626  0.262815  12.921992          13.0  0.844765  CHAN000   \n",
      "...        ...       ...        ...           ...       ...      ...   \n",
      "2863  1.499657  0.552646  13.020378          20.0  0.729381  CHAN000   \n",
      "2864  1.318549  0.595911  13.465956          17.0  0.217647  CHAN000   \n",
      "2865  1.406803  0.638002  13.135994          11.0  0.274775  CHAN000   \n",
      "2866  1.462578  0.456803  13.039318          17.0  0.167147  CHAN000   \n",
      "2867  1.554650  0.726316  13.553916          11.0  0.784314  CHAN000   \n",
      "\n",
      "      IdxChannel  \n",
      "0              0  \n",
      "1              0  \n",
      "2              0  \n",
      "3              0  \n",
      "4              0  \n",
      "...          ...  \n",
      "2863           0  \n",
      "2864           0  \n",
      "2865           0  \n",
      "2866           0  \n",
      "2867           0  \n",
      "\n",
      "[2868 rows x 13 columns]\n"
     ]
    }
   ],
   "source": [
    "from mne.filter import filter_data\n",
    "\n",
    "# Filtrar en la banda sigma (11-16 Hz)\n",
    "data_sigma = filter_data(data[0], sfreq=sf, l_freq=11, h_freq=16)\n",
    "\n",
    "\n",
    "import yasa\n",
    "\n",
    "# Detección de espigas en el canal de EEG\n",
    "spindles = yasa.spindles_detect(data_sigma, sf=sf)\n",
    "\n",
    "# Verifica si la detección fue exitosa\n",
    "if spindles is not None:\n",
    "    spindles_summary = spindles.summary()  # Resumen de espigas detectadas\n",
    "    print(spindles_summary)\n",
    "else:\n",
    "    print(\"No se detectaron espigas en los datos.\")\n",
    "\n",
    "\n"
   ]
  },
  {
   "cell_type": "code",
   "execution_count": 4,
   "metadata": {},
   "outputs": [
    {
     "name": "stdout",
     "output_type": "stream",
     "text": [
      "       Date          Time  Recording onset  Duration     Annotation  \\\n",
      "0  01.01.01      23.59.30             0.00        30  Sleep stage W   \n",
      "1  02.01.01      00.00.00            30.00        30  Sleep stage W   \n",
      "2  02.01.01  00.00.03.430            33.43         0     Lights off   \n",
      "3  02.01.01      00.00.30            60.00        30  Sleep stage W   \n",
      "4  02.01.01      00.01.00            90.00        30  Sleep stage W   \n",
      "\n",
      "  Linked channel  \n",
      "0            NaN  \n",
      "1            NaN  \n",
      "2      EEG F4-A1  \n",
      "3            NaN  \n",
      "4            NaN  \n",
      "Index(['Date', 'Time', 'Recording onset', 'Duration', 'Annotation',\n",
      "       'Linked channel'],\n",
      "      dtype='object')\n"
     ]
    }
   ],
   "source": [
    "import pandas as pd\n",
    "\n",
    "# Cargar el archivo usando coma como delimitador\n",
    "file_path = 'SN001_sleepscoring.txt'\n",
    "df = pd.read_csv(file_path, sep=',\\s*', engine='python')  # '\\s*' permite espacios alrededor de las comas\n",
    "\n",
    "# Verificar si las columnas se leen correctamente\n",
    "print(df.head())\n",
    "print(df.columns)\n"
   ]
  },
  {
   "cell_type": "code",
   "execution_count": 5,
   "metadata": {},
   "outputs": [
    {
     "data": {
      "image/png": "[encoded data removed]",
      "text/plain": [
       "<Figure size 1000x500 with 1 Axes>"
      ]
     },
     "metadata": {},
     "output_type": "display_data"
    }
   ],
   "source": [
    "import matplotlib.pyplot as plt\n",
    "import yasa\n",
    "\n",
    "# Obtener las etapas de sueño del DataFrame\n",
    "stages = get_scoring(df)\n",
    "\n",
    "# Visualizar el hipnograma\n",
    "plt.figure(figsize=(10, 5))\n",
    "yasa.plot_hypnogram(stages)\n",
    "plt.show()\n"
   ]
  },
  {
   "cell_type": "code",
   "execution_count": null,
   "metadata": {},
   "outputs": [],
   "source": []
  }
 ],
 "metadata": {
  "kernelspec": {
   "display_name": "Python 3",
   "language": "python",
   "name": "python3"
  },
  "language_info": {
   "codemirror_mode": {
    "name": "ipython",
    "version": 3
   },
   "file_extension": ".py",
   "mimetype": "text/x-python",
   "name": "python",
   "nbconvert_exporter": "python",
   "pygments_lexer": "ipython3",
   "version": "3.8.10"
  },
  "orig_nbformat": 4
 },
 "nbformat": 4,
 "nbformat_minor": 2
}
