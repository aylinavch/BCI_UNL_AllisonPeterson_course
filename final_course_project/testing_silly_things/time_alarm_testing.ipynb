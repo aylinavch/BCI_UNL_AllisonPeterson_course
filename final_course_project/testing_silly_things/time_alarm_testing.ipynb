{
 "cells": [
  {
   "cell_type": "code",
   "execution_count": 1,
   "metadata": {},
   "outputs": [
    {
     "name": "stdout",
     "output_type": "stream",
     "text": [
      "Current time: 2024-10-22 13:31:35.720760\n",
      "Time after 8 hours: 2024-10-22 21:31:35.720760\n"
     ]
    }
   ],
   "source": [
    "from datetime import datetime, timedelta\n",
    "\n",
    "# Get the current time\n",
    "current_time = datetime.now()\n",
    "\n",
    "# Add 7f hours to the current time\n",
    "time_plus_8_hours = current_time + timedelta(hours=8)\n",
    "\n",
    "# Print the result\n",
    "print(\"Current time:\", current_time)\n",
    "print(\"Time after 8 hours:\", time_plus_8_hours)"
   ]
  },
  {
   "cell_type": "code",
   "execution_count": null,
   "metadata": {},
   "outputs": [],
   "source": [
    "from playsound import playsound\n",
    "import os\n",
    "\n",
    "current_path = os.path.dirname(os.getcwd())\n",
    "playsound(r'C:\\Users\\ayvazquez\\aylin\\BCI_UNL_AllisonPeterson_course\\final_course_project\\data\\alarm_sound.mp3')"
   ]
  },
  {
   "cell_type": "code",
   "execution_count": 1,
   "metadata": {},
   "outputs": [],
   "source": [
    "import datetime"
   ]
  },
  {
   "cell_type": "code",
   "execution_count": 15,
   "metadata": {},
   "outputs": [
    {
     "data": {
      "text/plain": [
       "datetime.time(12, 36, 29, 433777)"
      ]
     },
     "execution_count": 15,
     "metadata": {},
     "output_type": "execute_result"
    }
   ],
   "source": [
    "datetime.datetime.now().time()"
   ]
  },
  {
   "cell_type": "code",
   "execution_count": 11,
   "metadata": {},
   "outputs": [
    {
     "name": "stdout",
     "output_type": "stream",
     "text": [
      "10:29:00 is before 10:35:00\n"
     ]
    }
   ],
   "source": [
    "# Define two datetime objects\n",
    "datetime1 = datetime.time(hour=10, minute=29)  # October 29, 2024, 12:00 PM\n",
    "datetime2 = datetime.time(hour=10, minute=35)  # October 29, 2024, 3:00 PM\n",
    "\n",
    "# Check if datetime1 is before datetime2\n",
    "if datetime1 < datetime2:\n",
    "    print(f\"{datetime1} is before {datetime2}\")\n",
    "else:\n",
    "    print(f\"{datetime1} is not before {datetime2}\")"
   ]
  }
 ],
 "metadata": {
  "kernelspec": {
   "display_name": ".venv",
   "language": "python",
   "name": "python3"
  },
  "language_info": {
   "codemirror_mode": {
    "name": "ipython",
    "version": 3
   },
   "file_extension": ".py",
   "mimetype": "text/x-python",
   "name": "python",
   "nbconvert_exporter": "python",
   "pygments_lexer": "ipython3",
   "version": "3.10.11"
  }
 },
 "nbformat": 4,
 "nbformat_minor": 2
}
